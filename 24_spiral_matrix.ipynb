{
 "cells": [
  {
   "cell_type": "markdown",
   "metadata": {},
   "source": [
    "Given a matrix of m x n elements (m rows, n columns), return all elements of the matrix in spiral order.\n",
    "\n",
    "Example 1:\n",
    "\n",
    "Input:\n",
    "[\n",
    " [ 1, 2, 3 ],\n",
    " [ 4, 5, 6 ],\n",
    " [ 7, 8, 9 ]\n",
    "]\n",
    "\n",
    "Output: [1,2,3,6,9,8,7,4,5]\n",
    "\n",
    "Example 2:\n",
    "\n",
    "Input:\n",
    "[\n",
    "  [1, 2, 3, 4],\n",
    "  [5, 6, 7, 8],\n",
    "  [9,10,11,12]\n",
    "]\n",
    "\n",
    "Output: [1,2,3,4,8,12,11,10,9,5,6,7]"
   ]
  },
  {
   "cell_type": "code",
   "execution_count": 1,
   "metadata": {},
   "outputs": [],
   "source": [
    "class Solution(object):\n",
    "    def spiralOrder(self, matrix):\n",
    "        \"\"\"\n",
    "        :type matrix: List[List[int]]\n",
    "        :rtype: List[int]\n",
    "        \"\"\"\n",
    "        result = []\n",
    "        if matrix == []:\n",
    "            return result\n",
    "         \n",
    "        left, right, top, bottom = 0, len(matrix[0]) - 1, 0, len(matrix) - 1\n",
    "         \n",
    "        while left <= right and top <= bottom:\n",
    "            for j in range(left, right + 1):\n",
    "                result.append(matrix[top][j])\n",
    "            for i in range(top + 1, bottom):\n",
    "                result.append(matrix[i][right])\n",
    "            for j in reversed(range(left, right + 1)):\n",
    "                if top < bottom:\n",
    "                    result.append(matrix[bottom][j])\n",
    "            for i in reversed(range(top + 1, bottom)):\n",
    "                if left < right:\n",
    "                    result.append(matrix[i][left])\n",
    "            left, right, top, bottom = left + 1, right - 1, top + 1, bottom - 1\n",
    "            \n",
    "        return result"
   ]
  },
  {
   "cell_type": "code",
   "execution_count": null,
   "metadata": {},
   "outputs": [],
   "source": []
  }
 ],
 "metadata": {
  "kernelspec": {
   "display_name": "Python 3",
   "language": "python",
   "name": "python3"
  },
  "language_info": {
   "codemirror_mode": {
    "name": "ipython",
    "version": 3
   },
   "file_extension": ".py",
   "mimetype": "text/x-python",
   "name": "python",
   "nbconvert_exporter": "python",
   "pygments_lexer": "ipython3",
   "version": "3.7.3"
  }
 },
 "nbformat": 4,
 "nbformat_minor": 2
}
