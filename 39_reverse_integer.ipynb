{
 "cells": [
  {
   "cell_type": "markdown",
   "metadata": {},
   "source": [
    "给出一个 32 位的有符号整数，你需要将这个整数中每位上的数字进行反转。\n",
    "\n",
    "示例 1:\n",
    "\n",
    "输入: 123\n",
    "\n",
    "输出: 321\n",
    "\n",
    "\n",
    " 示例 2:\n",
    "\n",
    "输入: -123\n",
    "\n",
    "输出: -321\n",
    "\n",
    "\n",
    "示例 3:\n",
    "\n",
    "输入: 120\n",
    "\n",
    "输出: 21\n",
    "\n",
    "\n",
    "注意:\n",
    "\n",
    "假设我们的环境只能存储得下 32 位的有符号整数，则其数值范围为 [−231,  231 − 1]。请根据这个假设，如果反转后整数溢出那么就返回 0。"
   ]
  },
  {
   "cell_type": "code",
   "execution_count": 1,
   "metadata": {},
   "outputs": [],
   "source": [
    "class Solution(object):\n",
    "    def reverse(self, x):\n",
    "        \"\"\"\n",
    "        :type x: int\n",
    "        :rtype: int\n",
    "        \"\"\"\n",
    "        if x > 0:\n",
    "            x = str(x)\n",
    "            x = x[::-1]\n",
    "            x = int(x)\n",
    "        else:\n",
    "            x = abs(x)\n",
    "            x = str(x)\n",
    "            x = x[::-1]\n",
    "            x = -int(x)\n",
    "        if -2**31<x<2**31-1:\n",
    "            return x\n",
    "        return 0"
   ]
  },
  {
   "cell_type": "code",
   "execution_count": null,
   "metadata": {},
   "outputs": [],
   "source": []
  }
 ],
 "metadata": {
  "kernelspec": {
   "display_name": "Python 3",
   "language": "python",
   "name": "python3"
  },
  "language_info": {
   "codemirror_mode": {
    "name": "ipython",
    "version": 3
   },
   "file_extension": ".py",
   "mimetype": "text/x-python",
   "name": "python",
   "nbconvert_exporter": "python",
   "pygments_lexer": "ipython3",
   "version": "3.7.2"
  }
 },
 "nbformat": 4,
 "nbformat_minor": 2
}
