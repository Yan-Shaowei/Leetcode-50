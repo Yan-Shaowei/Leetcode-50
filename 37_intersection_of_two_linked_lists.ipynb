{
 "cells": [
  {
   "cell_type": "markdown",
   "metadata": {},
   "source": [
    "编写一个程序，找到两个单链表相交的起始节点。\n",
    "\n",
    "如下面的两个链表：\n",
    "\n",
    "在节点 c1 开始相交。\n",
    "\n",
    "示例 1：\n",
    "\n",
    "输入：intersectVal = 8, listA = [4,1,8,4,5], listB = [5,0,1,8,4,5], skipA = 2, skipB = 3\n",
    "\n",
    "输出：Reference of the node with value = 8\n",
    "\n",
    "输入解释：相交节点的值为 8 （注意，如果两个列表相交则不能为 0）。从各自的表头开始算起，链表 A 为 [4,1,8,4,5]，链表 B 为 [5,0,1,8,4,5]。在 A 中，相交节点前有 2 个节点；在 B 中，相交节点前有 3 个节点。\n",
    "\n",
    "示例 2：\n",
    "\n",
    "输入：intersectVal = 2, listA = [0,9,1,2,4], listB = [3,2,4], skipA = 3, skipB = 1\n",
    "\n",
    "输出：Reference of the node with value = 2\n",
    "\n",
    "输入解释：相交节点的值为 2 （注意，如果两个列表相交则不能为 0）。从各自的表头开始算起，链表 A 为 [0,9,1,2,4]，链表 B 为 [3,2,4]。在 A 中，相交节点前有 3 个节点；在 B 中，相交节点前有 1 个节点。\n",
    "\n",
    "示例 3：\n",
    "\n",
    "输入：intersectVal = 0, listA = [2,6,4], listB = [1,5], skipA = 3, skipB = 2\n",
    "\n",
    "输出：null\n",
    "\n",
    "输入解释：从各自的表头开始算起，链表 A 为 [2,6,4]，链表 B 为 [1,5]。由于这两个链表不相交，所以 intersectVal 必须为 0，而 skipA 和 skipB 可以是任意值。\n",
    "\n",
    "解释：这两个链表不相交，因此返回 null。\n",
    "\n",
    "注意：\n",
    "\n",
    "\n",
    "\t如果两个链表没有交点，返回 null.\n",
    "\t在返回结果后，两个链表仍须保持原有的结构。\n",
    "\t可假定整个链表结构中没有循环。\n",
    "\t程序尽量满足 O(n) 时间复杂度，且仅用 O(1) 内存。"
   ]
  },
  {
   "cell_type": "markdown",
   "metadata": {},
   "source": [
    "## 解法1 哈希表"
   ]
  },
  {
   "cell_type": "code",
   "execution_count": 1,
   "metadata": {},
   "outputs": [],
   "source": [
    "# Definition for singly-linked list.\n",
    "# class ListNode(object):\n",
    "#     def __init__(self, x):\n",
    "#         self.val = x\n",
    "#         self.next = None\n",
    "\n",
    "class Solution(object):\n",
    "    def getIntersectionNode(self, headA, headB):\n",
    "        \"\"\"\n",
    "        :type head1, head1: ListNode\n",
    "        :rtype: ListNode\n",
    "        \"\"\"\n",
    "        if not headA or not headB:\n",
    "            return None\n",
    "        \n",
    "        result = dict()\n",
    "        while headA != None:\n",
    "            result[headA] = 1\n",
    "            headA = headA.next\n",
    "        while headB != None:\n",
    "            if headB in result:\n",
    "                return headB\n",
    "            headB = headB.next\n",
    "            \n",
    "        return None"
   ]
  },
  {
   "cell_type": "markdown",
   "metadata": {},
   "source": [
    "## 解法2 双指针"
   ]
  },
  {
   "cell_type": "code",
   "execution_count": 3,
   "metadata": {},
   "outputs": [],
   "source": [
    "class Solution(object):\n",
    "    def getIntersectionNode(self, headA, headB):\n",
    "        ha, hb = headA, headB\n",
    "        while ha != hb:\n",
    "            ha = ha.next if ha else headB\n",
    "            hb = hb.next if hb else headA\n",
    "        return ha"
   ]
  },
  {
   "cell_type": "code",
   "execution_count": null,
   "metadata": {},
   "outputs": [],
   "source": []
  }
 ],
 "metadata": {
  "kernelspec": {
   "display_name": "Python 3",
   "language": "python",
   "name": "python3"
  },
  "language_info": {
   "codemirror_mode": {
    "name": "ipython",
    "version": 3
   },
   "file_extension": ".py",
   "mimetype": "text/x-python",
   "name": "python",
   "nbconvert_exporter": "python",
   "pygments_lexer": "ipython3",
   "version": "3.7.2"
  }
 },
 "nbformat": 4,
 "nbformat_minor": 2
}
