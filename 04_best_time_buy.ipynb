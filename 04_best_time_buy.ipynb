{
 "cells": [
  {
   "cell_type": "markdown",
   "metadata": {},
   "source": [
    "# 暴力解法"
   ]
  },
  {
   "cell_type": "code",
   "execution_count": 2,
   "metadata": {},
   "outputs": [],
   "source": [
    "class Solution(object):\n",
    "    def maxProfit(self, prices):\n",
    "        \"\"\"\n",
    "        :type prices: List[int]\n",
    "        :rtype: int\n",
    "        \"\"\"\n",
    "        benefit=0\n",
    "        if len(prices) < 2:\n",
    "            return 0\n",
    "        if prices[0] < prices[1]:\n",
    "            benefit -= prices[0]\n",
    "        if prices[-1] > prices[-2]:\n",
    "            benefit += prices[-1]\n",
    "        for i in range(1,len(prices)-1):\n",
    "            if prices[i] > prices[i-1] and prices[i] >= prices[i+1]:\n",
    "                benefit += prices[i]\n",
    "            if prices[i] <= prices[i-1] and prices[i] < prices[i+1]:\n",
    "                benefit -= prices[i]\n",
    "        return benefit"
   ]
  },
  {
   "cell_type": "markdown",
   "metadata": {},
   "source": [
    "# 贪婪解法"
   ]
  },
  {
   "cell_type": "code",
   "execution_count": 3,
   "metadata": {},
   "outputs": [],
   "source": [
    "class Solution(object):\n",
    "    def maxProfit(self, prices):\n",
    "        \"\"\"\n",
    "        :type prices: List[int]\n",
    "        :rtype: int\n",
    "        \"\"\"\n",
    "        benefit=0\n",
    "        for i in range(len(prices)-1):\n",
    "            if prices[i]<prices[i+1]:\n",
    "                benefit += prices[i+1]-prices[i]\n",
    "        return benefit"
   ]
  },
  {
   "cell_type": "code",
   "execution_count": null,
   "metadata": {},
   "outputs": [],
   "source": []
  }
 ],
 "metadata": {
  "kernelspec": {
   "display_name": "Python 3",
   "language": "python",
   "name": "python3"
  },
  "language_info": {
   "codemirror_mode": {
    "name": "ipython",
    "version": 3
   },
   "file_extension": ".py",
   "mimetype": "text/x-python",
   "name": "python",
   "nbconvert_exporter": "python",
   "pygments_lexer": "ipython3",
   "version": "3.7.2"
  }
 },
 "nbformat": 4,
 "nbformat_minor": 2
}
