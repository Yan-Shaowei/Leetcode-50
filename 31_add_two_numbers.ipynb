{
 "cells": [
  {
   "cell_type": "markdown",
   "metadata": {},
   "source": [
    "给出两个 非空 的链表用来表示两个非负的整数。其中，它们各自的位数是按照 逆序 的方式存储的，并且它们的每个节点只能存储 一位 数字。\n",
    "\n",
    "如果，我们将这两个数相加起来，则会返回一个新的链表来表示它们的和。\n",
    "\n",
    "您可以假设除了数字 0 之外，这两个数都不会以 0 开头。\n",
    "\n",
    "示例：\n",
    "\n",
    "输入：(2 -> 4 -> 3) + (5 -> 6 -> 4)\n",
    "\n",
    "输出：7 -> 0 -> 8\n",
    "\n",
    "原因：342 + 465 = 807"
   ]
  },
  {
   "cell_type": "markdown",
   "metadata": {},
   "source": [
    "## 方法1：先取出两个数值，求和，再组成新的链表（时空复杂度都不好）"
   ]
  },
  {
   "cell_type": "code",
   "execution_count": 13,
   "metadata": {},
   "outputs": [],
   "source": [
    "# Definition for singly-linked list.\n",
    "# class ListNode(object):\n",
    "#     def __init__(self, x):\n",
    "#         self.val = x\n",
    "#         self.next = None\n",
    "\n",
    "class Solution(object):\n",
    "    def addTwoNumbers(self, l1, l2):\n",
    "        \"\"\"\n",
    "        :type l1: ListNode\n",
    "        :type l2: ListNode\n",
    "        :rtype: ListNode\n",
    "        \"\"\"\n",
    "        n1 = 0\n",
    "        n2 = 0\n",
    "        i1 = 1\n",
    "        i2 = 1\n",
    "        while l1 != None:\n",
    "            n1 += l1.val * i1\n",
    "            l1 = l1.next\n",
    "            i1 *= 10\n",
    "        while l2 != None:\n",
    "            n2 += l2.val * i2\n",
    "            l2 = l2.next\n",
    "            i2 *= 10\n",
    "        target = n1 + n2\n",
    "        target = str(target)\n",
    "        result = ListNode(target[0])\n",
    "        for i in range(1,len(target)):\n",
    "            tmp = result\n",
    "            result = ListNode(target[i])\n",
    "            result.next = tmp\n",
    "        return result"
   ]
  },
  {
   "cell_type": "markdown",
   "metadata": {},
   "source": [
    "## 方法2：按位求和直接构成新链表"
   ]
  },
  {
   "cell_type": "code",
   "execution_count": 17,
   "metadata": {},
   "outputs": [],
   "source": [
    "# Definition for singly-linked list.\n",
    "# class ListNode(object):\n",
    "#     def __init__(self, x):\n",
    "#         self.val = x\n",
    "#         self.next = None\n",
    "\n",
    "class Solution:\n",
    "    def addTwoNumbers(self, l1, l2):\n",
    "        \"\"\"\n",
    "        :type l1: ListNode\n",
    "        :type l2: ListNode\n",
    "        :rtype: ListNode\n",
    "        \"\"\"\n",
    "        re = ListNode(0)\n",
    "        r=re\n",
    "        carry=0\n",
    "        while(l1 or l2):\n",
    "            x= l1.val if l1 else 0\n",
    "            y= l2.val if l2 else 0\n",
    "            s=carry+x+y\n",
    "            carry=s//10\n",
    "            r.next=ListNode(s%10)\n",
    "            r=r.next\n",
    "            if(l1!=None):l1=l1.next\n",
    "            if(l2!=None):l2=l2.next\n",
    "        if(carry>0):\n",
    "            r.next=ListNode(1)\n",
    "        return re.next"
   ]
  },
  {
   "cell_type": "code",
   "execution_count": null,
   "metadata": {},
   "outputs": [],
   "source": []
  }
 ],
 "metadata": {
  "kernelspec": {
   "display_name": "Python 3",
   "language": "python",
   "name": "python3"
  },
  "language_info": {
   "codemirror_mode": {
    "name": "ipython",
    "version": 3
   },
   "file_extension": ".py",
   "mimetype": "text/x-python",
   "name": "python",
   "nbconvert_exporter": "python",
   "pygments_lexer": "ipython3",
   "version": "3.7.2"
  }
 },
 "nbformat": 4,
 "nbformat_minor": 2
}
