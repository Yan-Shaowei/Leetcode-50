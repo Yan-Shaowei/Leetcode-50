{
 "cells": [
  {
   "cell_type": "markdown",
   "metadata": {},
   "source": [
    "给定一个包含 n 个整数的数组 nums，判断 nums 中是否存在三个元素 a，b，c ，使得 a + b + c = 0 ？找出所有满足条件且不重复的三元组。\n",
    "\n",
    "注意：答案中不可以包含重复的三元组。\n",
    "\n",
    "例如, 给定数组 nums = [-1, 0, 1, 2, -1, -4]，\n",
    "\n",
    "满足要求的三元组集合为：\n",
    "[\n",
    "  [-1, 0, 1],\n",
    "  [-1, -1, 2]\n",
    "]\n"
   ]
  },
  {
   "cell_type": "markdown",
   "metadata": {},
   "source": [
    "## 先将列表排序，剔除列表元素都大于0，以及重复的情况，使用双指针寻找三数之和"
   ]
  },
  {
   "cell_type": "code",
   "execution_count": 1,
   "metadata": {},
   "outputs": [],
   "source": [
    "class Solution:\n",
    "    def threeSum(self, nums):\n",
    "        nums.sort()\n",
    "        res, k = [], 0\n",
    "        for k in range(len(nums) - 2):\n",
    "            if nums[k] > 0: break # 1. because of j > i > k.\n",
    "            if k > 0 and nums[k] == nums[k - 1]: continue # 2. skip the same `nums[k]`.\n",
    "            i, j = k + 1, len(nums) - 1\n",
    "            while i < j: # 3. double pointer\n",
    "                s = nums[k] + nums[i] + nums[j]\n",
    "                if s < 0:\n",
    "                    i += 1\n",
    "                    while i < j and nums[i] == nums[i - 1]: i += 1\n",
    "                elif s > 0:\n",
    "                    j -= 1\n",
    "                    while i < j and nums[j] == nums[j + 1]: j -= 1\n",
    "                else:\n",
    "                    res.append([nums[k], nums[i], nums[j]])\n",
    "                    i += 1\n",
    "                    j -= 1\n",
    "                    while i < j and nums[i] == nums[i - 1]: i += 1\n",
    "                    while i < j and nums[j] == nums[j + 1]: j -= 1\n",
    "        return res"
   ]
  },
  {
   "cell_type": "code",
   "execution_count": null,
   "metadata": {},
   "outputs": [],
   "source": []
  }
 ],
 "metadata": {
  "kernelspec": {
   "display_name": "Python 3",
   "language": "python",
   "name": "python3"
  },
  "language_info": {
   "codemirror_mode": {
    "name": "ipython",
    "version": 3
   },
   "file_extension": ".py",
   "mimetype": "text/x-python",
   "name": "python",
   "nbconvert_exporter": "python",
   "pygments_lexer": "ipython3",
   "version": "3.7.2"
  }
 },
 "nbformat": 4,
 "nbformat_minor": 2
}
