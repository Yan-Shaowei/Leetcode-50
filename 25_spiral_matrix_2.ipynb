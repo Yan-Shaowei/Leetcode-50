{
 "cells": [
  {
   "cell_type": "markdown",
   "metadata": {},
   "source": [
    "Given a positive integer n, generate a square matrix filled with elements from 1 to n2 in spiral order.\n",
    "\n",
    "Example:\n",
    "\n",
    "Input: 3\n",
    "\n",
    "Output:\n",
    "[\n",
    " [ 1, 2, 3 ],\n",
    " [ 8, 9, 4 ],\n",
    " [ 7, 6, 5 ]\n",
    "]"
   ]
  },
  {
   "cell_type": "code",
   "execution_count": 18,
   "metadata": {},
   "outputs": [],
   "source": [
    "class Solution(object):\n",
    "    def generateMatrix(self, n):\n",
    "        \"\"\"\n",
    "        :type n: int\n",
    "        :rtype: List[List[int]]\n",
    "        \"\"\"\n",
    "        left, top, right, bottom = 0,0,n-1,n-1\n",
    "        result = [[None]*n for _ in range(n)]\n",
    "        num = 1\n",
    "        \n",
    "        while left <= right and top <= bottom:\n",
    "            for i in range(left,right+1):\n",
    "                result[top][i] = num\n",
    "                num += 1\n",
    "            for i in range(top+1,bottom):\n",
    "                result[i][bottom] = num\n",
    "                num += 1\n",
    "            for i in reversed(range(left+1,right+1)):\n",
    "                if left < right:\n",
    "                    result[bottom][i] = num\n",
    "                    num +=1\n",
    "            for i in reversed(range(top+1,bottom+1)):\n",
    "                if top < bottom:\n",
    "                    result[i][top] = num\n",
    "                    num +=1\n",
    "            left,top,right,bottom = left+1,top+1,right-1,bottom-1\n",
    "            #print(left,top,right,bottom)\n",
    "            \n",
    "        return result"
   ]
  },
  {
   "cell_type": "code",
   "execution_count": null,
   "metadata": {},
   "outputs": [],
   "source": []
  }
 ],
 "metadata": {
  "kernelspec": {
   "display_name": "Python 3",
   "language": "python",
   "name": "python3"
  },
  "language_info": {
   "codemirror_mode": {
    "name": "ipython",
    "version": 3
   },
   "file_extension": ".py",
   "mimetype": "text/x-python",
   "name": "python",
   "nbconvert_exporter": "python",
   "pygments_lexer": "ipython3",
   "version": "3.7.3"
  }
 },
 "nbformat": 4,
 "nbformat_minor": 2
}
