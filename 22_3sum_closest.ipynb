{
 "cells": [
  {
   "cell_type": "markdown",
   "metadata": {},
   "source": [
    "给定一个包括 n 个整数的数组 nums 和 一个目标值 target。找出 nums 中的三个整数，使得它们的和与 target 最接近。返回这三个数的和。假定每组输入只存在唯一答案。\n",
    "\n",
    "例如，给定数组 nums = [-1，2，1，-4], 和 target = 1.\n",
    "\n",
    "与 target 最接近的三个数的和为 2. (-1 + 2 + 1 = 2)."
   ]
  },
  {
   "cell_type": "code",
   "execution_count": 7,
   "metadata": {},
   "outputs": [],
   "source": [
    "class Solution(object):\n",
    "    def threeSumClosest(self, nums, target):\n",
    "        \"\"\"\n",
    "        :type nums: List[int]\n",
    "        :type target: int\n",
    "        :rtype: int\n",
    "        \"\"\"\n",
    "        #先排序\n",
    "        nums.sort()\n",
    "        \n",
    "        if len(nums) == 3:\n",
    "            return sum(nums)\n",
    "        \n",
    "        #定义初始值\n",
    "        result,k = 0,0\n",
    "        difference = float('inf')\n",
    "        \n",
    "        for k in range(len(nums)-2):\n",
    "            \n",
    "            #定义双指针\n",
    "            i,j = k+1,len(nums)-1\n",
    "            \n",
    "            while i < j:\n",
    "                s = nums[k] + nums[i] + nums[j]\n",
    "                tmp = target - s\n",
    "                \n",
    "                if abs(tmp) < difference:\n",
    "                    result = s\n",
    "                    difference = abs(tmp)\n",
    "                    \n",
    "                if s < target:\n",
    "                    i = i+1\n",
    "                elif s > target:\n",
    "                    j = j-1\n",
    "                else: \n",
    "                    return target\n",
    "                \n",
    "        return result"
   ]
  },
  {
   "cell_type": "code",
   "execution_count": null,
   "metadata": {},
   "outputs": [],
   "source": []
  }
 ],
 "metadata": {
  "kernelspec": {
   "display_name": "Python 3",
   "language": "python",
   "name": "python3"
  },
  "language_info": {
   "codemirror_mode": {
    "name": "ipython",
    "version": 3
   },
   "file_extension": ".py",
   "mimetype": "text/x-python",
   "name": "python",
   "nbconvert_exporter": "python",
   "pygments_lexer": "ipython3",
   "version": "3.7.2"
  }
 },
 "nbformat": 4,
 "nbformat_minor": 2
}
