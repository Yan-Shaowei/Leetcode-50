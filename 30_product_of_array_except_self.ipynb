{
 "cells": [
  {
   "cell_type": "markdown",
   "metadata": {},
   "source": [
    "给定长度为 n 的整数数组 nums，其中 n > 1，返回输出数组 output ，其中 output[i] 等于 nums 中除 nums[i] 之外其余各元素的乘积。\n",
    "\n",
    "示例:\n",
    "\n",
    "输入: [1,2,3,4]\n",
    "输出: [24,12,8,6]\n",
    "\n",
    "说明: 请不要使用除法，且在 O(n) 时间复杂度内完成此题。\n",
    "\n",
    "进阶：\n",
    "你可以在常数空间复杂度内完成这个题目吗？（ 出于对空间复杂度分析的目的，输出数组不被视为额外空间。）"
   ]
  },
  {
   "cell_type": "code",
   "execution_count": 4,
   "metadata": {},
   "outputs": [],
   "source": [
    "class Solution:\n",
    "    def productExceptSelf(self, nums):\n",
    "        # 题目解析：\n",
    "        # output依题目为例，nums=[1,2,3,4],首先我们要知道\n",
    "        # output[0]存放1,2,3位置的数相乘，因此output[0]第一次遍历存放1\n",
    "        # output[1]存放0,2,3位置的数相乘，因此output[1]第一次遍历存放1*nums[0]\n",
    "        # output[2]存放0,1,3位置的数相乘, 因此output[2]第一次遍历存放1*nums[0]*nums[1]\n",
    "        # output[3]存放0,1,2位置的数相乘, 因此output[3]第一次遍历存放1*nums[0]*nums[1]*nums[2]\n",
    "        # 这时，我们只要倒过来就可以看出\n",
    "        # 因此output[3]第二次遍历存放output[3]*1 = nums[0]*nums[1]*nums[2]*1\n",
    "        # 因此output[2]第二次遍历存放output[2]*nums[3] = nums[0]*nums[1]*nums[3]*1\n",
    "        # 因此output[1]第二次遍历存放output[1]*nums[3]*nums[2] = nums[0]*nums[2]*nums[3]*1\n",
    "        # 因此output[0]第二次遍历存放output[0]*nums[3]*nums[2]*nums[1] = nums[3]*nums[2]*nums[1]*1\n",
    "        # 最终得到输出结果\n",
    "        n = len(nums)\n",
    "        res = [1]*n\n",
    "        r = 1\n",
    "        for i in range(1,n):\n",
    "            res[i] = res[i-1]*nums[i-1]\n",
    "        print(res)\n",
    "        for i in range(n-1,-1,-1):\n",
    "            res[i] = res[i]*r\n",
    "            r = r*nums[i]\n",
    "        return res"
   ]
  },
  {
   "cell_type": "code",
   "execution_count": 8,
   "metadata": {},
   "outputs": [],
   "source": [
    "a = Solution()"
   ]
  },
  {
   "cell_type": "code",
   "execution_count": 9,
   "metadata": {},
   "outputs": [],
   "source": [
    "nums = [1,2,3,4]"
   ]
  },
  {
   "cell_type": "code",
   "execution_count": 10,
   "metadata": {},
   "outputs": [
    {
     "name": "stdout",
     "output_type": "stream",
     "text": [
      "[1, 1, 2, 6]\n"
     ]
    },
    {
     "data": {
      "text/plain": [
       "[24, 12, 8, 6]"
      ]
     },
     "execution_count": 10,
     "metadata": {},
     "output_type": "execute_result"
    }
   ],
   "source": [
    "a.productExceptSelf(nums)"
   ]
  },
  {
   "cell_type": "code",
   "execution_count": null,
   "metadata": {},
   "outputs": [],
   "source": []
  }
 ],
 "metadata": {
  "kernelspec": {
   "display_name": "Python 3",
   "language": "python",
   "name": "python3"
  },
  "language_info": {
   "codemirror_mode": {
    "name": "ipython",
    "version": 3
   },
   "file_extension": ".py",
   "mimetype": "text/x-python",
   "name": "python",
   "nbconvert_exporter": "python",
   "pygments_lexer": "ipython3",
   "version": "3.7.2"
  }
 },
 "nbformat": 4,
 "nbformat_minor": 2
}
