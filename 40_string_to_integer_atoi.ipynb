{
 "cells": [
  {
   "cell_type": "markdown",
   "metadata": {},
   "source": [
    "请你来实现一个 atoi 函数，使其能将字符串转换成整数。\n",
    "\n",
    "首先，该函数会根据需要丢弃无用的开头空格字符，直到寻找到第一个非空格的字符为止。\n",
    "\n",
    "当我们寻找到的第一个非空字符为正或者负号时，则将该符号与之后面尽可能多的连续数字组合起来，作为该整数的正负号；假如第一个非空字符是数字，则直接将其与之后连续的数字字符组合起来，形成整数。\n",
    "\n",
    "该字符串除了有效的整数部分之后也可能会存在多余的字符，这些字符可以被忽略，它们对于函数不应该造成影响。\n",
    "\n",
    "注意：假如该字符串中的第一个非空格字符不是一个有效整数字符、字符串为空或字符串仅包含空白字符时，则你的函数不需要进行转换。\n",
    "\n",
    "在任何情况下，若函数不能进行有效的转换时，请返回 0。\n",
    "\n",
    "说明：\n",
    "\n",
    "假设我们的环境只能存储 32 位大小的有符号整数，那么其数值范围为 [−231,  231 − 1]。如果数值超过这个范围，请返回  INT_MAX (231 − 1) 或 INT_MIN (−231) 。\n",
    "\n",
    "示例 1:\n",
    "\n",
    "输入: \"42\"\n",
    "输出: 42\n",
    "\n",
    "\n",
    "示例 2:\n",
    "\n",
    "输入: \"   -42\"\n",
    "输出: -42\n",
    "解释: 第一个非空白字符为 '-', 它是一个负号。\n",
    "     我们尽可能将负号与后面所有连续出现的数字组合起来，最后得到 -42 。\n",
    "\n",
    "\n",
    "示例 3:\n",
    "\n",
    "输入: \"4193 with words\"\n",
    "输出: 4193\n",
    "解释: 转换截止于数字 '3' ，因为它的下一个字符不为数字。\n",
    "\n",
    "\n",
    "示例 4:\n",
    "\n",
    "输入: \"words and 987\"\n",
    "输出: 0\n",
    "解释: 第一个非空字符是 'w', 但它不是数字或正、负号。\n",
    "     因此无法执行有效的转换。\n",
    "\n",
    "示例 5:\n",
    "\n",
    "输入: \"-91283472332\"\n",
    "输出: -2147483648\n",
    "解释: 数字 \"-91283472332\" 超过 32 位有符号整数范围。 \n",
    "     因此返回 INT_MIN (−231) 。"
   ]
  },
  {
   "cell_type": "markdown",
   "metadata": {},
   "source": [
    "## 使用正则表达式"
   ]
  },
  {
   "cell_type": "markdown",
   "metadata": {},
   "source": [
    "^：匹配字符串开头\n",
    "\n",
    "[\\+\\-]：代表一个+字符或-字符\n",
    "\n",
    "?：前面一个字符可有可无\n",
    "\n",
    "\\d：一个数字\n",
    "\n",
    "+：前面一个字符的一个或多个\n",
    "\n",
    "\\D：一个非数字字符\n",
    "\n",
    "*：前面一个字符的0个或多个\n",
    "\n",
    "max(min(数字, 2**31 - 1), -2**31) 用来防止结果越界"
   ]
  },
  {
   "cell_type": "code",
   "execution_count": 1,
   "metadata": {},
   "outputs": [],
   "source": [
    "class Solution:\n",
    "    def myAtoi(self, s: str) -> int:\n",
    "        return max(min(int(*re.findall('^[\\+\\-]?\\d+', s.lstrip())), 2**31 - 1), -2**31)"
   ]
  },
  {
   "cell_type": "markdown",
   "metadata": {},
   "source": [
    "## 逐个强转"
   ]
  },
  {
   "cell_type": "code",
   "execution_count": 2,
   "metadata": {},
   "outputs": [],
   "source": [
    "class Solution(object):\n",
    "    def myAtoi(self, str):\n",
    "        \"\"\"\n",
    "        :type str: str\n",
    "        :rtype: int\n",
    "        \"\"\"\n",
    "        #去掉左边字符\n",
    "        str=str.lstrip()\n",
    "        #如果字符串空，返回\n",
    "        if len(str)==0:\n",
    "            return 0\n",
    "        #设置默认输出为0\n",
    "        last=0\n",
    "        #如果有符号设置起始位置2，其余的为1\n",
    "        i=2 if str[0]=='-'or str[0]=='+'  else 1\n",
    "        #循环，直到无法强转成int，跳出循环\n",
    "        while i <= len(str):\n",
    "            try:\n",
    "                last=int(str[:i])\n",
    "                i+=1\n",
    "            except:\n",
    "                break\n",
    "        #如果数字超出范围，返回范围最大值\n",
    "        if last<-2147483648 :\n",
    "            return -2147483648\n",
    "        if last>2147483647:\n",
    "            return 2147483647\n",
    "        return last"
   ]
  },
  {
   "cell_type": "code",
   "execution_count": null,
   "metadata": {},
   "outputs": [],
   "source": []
  }
 ],
 "metadata": {
  "kernelspec": {
   "display_name": "Python 3",
   "language": "python",
   "name": "python3"
  },
  "language_info": {
   "codemirror_mode": {
    "name": "ipython",
    "version": 3
   },
   "file_extension": ".py",
   "mimetype": "text/x-python",
   "name": "python",
   "nbconvert_exporter": "python",
   "pygments_lexer": "ipython3",
   "version": "3.7.2"
  }
 },
 "nbformat": 4,
 "nbformat_minor": 2
}
