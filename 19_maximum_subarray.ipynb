{
 "cells": [
  {
   "cell_type": "markdown",
   "metadata": {},
   "source": [
    "给定一个整数数组 nums ，找到一个具有最大和的连续子数组（子数组最少包含一个元素），返回其最大和。\n",
    "\n",
    "示例:\n",
    "\n",
    "输入: [-2,1,-3,4,-1,2,1,-5,4],\n",
    "输出: 6\n",
    "解释: 连续子数组 [4,-1,2,1] 的和最大，为 6。"
   ]
  },
  {
   "cell_type": "markdown",
   "metadata": {},
   "source": [
    "## 解法1"
   ]
  },
  {
   "cell_type": "code",
   "execution_count": 2,
   "metadata": {},
   "outputs": [],
   "source": [
    "def maxSubArray(nums):\n",
    "    \"\"\"\n",
    "        1. dp问题. 公式为: dp[i] = max(nums[i], nums[i] + dp[i - 1])\n",
    "        2. 最大子序和 = 当前元素自身最大, 或者 包含之前后最大\n",
    "    \"\"\"\n",
    "    for i in range(1, len(nums)):\n",
    "        # nums[i-1]代表dp[i - 1]\n",
    "        nums[i] = max(nums[i], nums[i] + nums[i-1])\n",
    "        \n",
    "    return max(nums)"
   ]
  },
  {
   "cell_type": "markdown",
   "metadata": {},
   "source": [
    "## 解法2"
   ]
  },
  {
   "cell_type": "code",
   "execution_count": 4,
   "metadata": {},
   "outputs": [],
   "source": [
    "class Solution:\n",
    "    def maxSubArray(self, nums):\n",
    "        tmp = nums[0]\n",
    "        max_ = tmp\n",
    "        n = len(nums)\n",
    "        for i in range(1,n):\n",
    "            # 当当前序列加上此时的元素的值大于tmp的值，说明最大序列和可能出现在后续序列中，记录此时的最大值\n",
    "            if tmp + nums[i]>nums[i]:\n",
    "                max_ = max(max_, tmp+nums[i])\n",
    "                tmp = tmp + nums[i]\n",
    "            else:\n",
    "            #当tmp(当前和)小于下一个元素时，当前最长序列到此为止。以该元素为起点继续找最大子序列,\n",
    "            # 并记录此时的最大值\n",
    "                max_ = max(max_, tmp, tmp+nums[i], nums[i])\n",
    "                tmp = nums[i]\n",
    "        return max_"
   ]
  }
 ],
 "metadata": {
  "kernelspec": {
   "display_name": "Python 3",
   "language": "python",
   "name": "python3"
  },
  "language_info": {
   "codemirror_mode": {
    "name": "ipython",
    "version": 3
   },
   "file_extension": ".py",
   "mimetype": "text/x-python",
   "name": "python",
   "nbconvert_exporter": "python",
   "pygments_lexer": "ipython3",
   "version": "3.7.2"
  }
 },
 "nbformat": 4,
 "nbformat_minor": 2
}
